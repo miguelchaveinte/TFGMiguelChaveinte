{
  "nbformat": 4,
  "nbformat_minor": 0,
  "metadata": {
    "colab": {
      "provenance": []
    },
    "kernelspec": {
      "name": "python3",
      "display_name": "Python 3"
    },
    "language_info": {
      "name": "python"
    }
  },
  "cells": [
    {
      "cell_type": "code",
      "source": [
        "import math\n",
        "import numpy as np\n",
        "import matplotlib.pyplot as plt"
      ],
      "metadata": {
        "id": "f4iM2DXpPHVk"
      },
      "execution_count": 8,
      "outputs": []
    },
    {
      "cell_type": "code",
      "execution_count": 47,
      "metadata": {
        "id": "CLIPVjcfE4sA"
      },
      "outputs": [],
      "source": [
        "grid= np.zeros((2041,4320)) # (latitud,longitud) dimension of data cmems: https://catalogue.marine.copernicus.eu/documents/PUM/CMEMS-GLO-PUM-001-024.pdf"
      ]
    },
    {
      "cell_type": "code",
      "source": [
        "grid.shape"
      ],
      "metadata": {
        "colab": {
          "base_uri": "https://localhost:8080/"
        },
        "id": "P3OVjS-5J4LR",
        "outputId": "d9eb661e-3de1-41c4-c76d-72bb5a5eceb2"
      },
      "execution_count": 48,
      "outputs": [
        {
          "output_type": "execute_result",
          "data": {
            "text/plain": [
              "(2041, 4320)"
            ]
          },
          "metadata": {},
          "execution_count": 48
        }
      ]
    },
    {
      "cell_type": "code",
      "source": [
        "for i in range(91): # de 0 a 90 grados\n",
        "    angle_rad = math.radians(i)\n",
        "    cos_angle = math.cos(angle_rad)\n",
        "    delta = 0.083 # como estan los datos 0.083*0.083 https://catalogue.marine.copernicus.eu/documents/PUM/CMEMS-GLO-PUM-001-024.pdf\n",
        "\n",
        "    for x in range(12*i,12*(i+1)): #dividision de los datos en 1/12 , p.ej: https://catalogue.marine.copernicus.eu/documents/PUM/CMEMS-GLO-PUM-001-024.pdf -> asi 0.083x12=1º\n",
        "      for y in range(4320):\n",
        "          grid[x][y] = 111.321 * cos_angle * delta # 111.321 * cos(w) -> https://www.ibm.com/docs/es/db2woc?topic=SS6NHC/com.ibm.db2.luw.spatial.topics.doc/doc/csb3022a.htm & https://www.um.es/geograf/sigmur/temariohtml/node6_mn.html & http://www.iaktueller.de/exx.php \n",
        "\n",
        "      for x in range(2040 - 12*(i+1),2040 - 12*i):\n",
        "        for y in range(4320):\n",
        "          grid[x][y] = 111.321 * cos_angle * delta\n",
        "\n",
        "for y in range(4320):\n",
        "   grid[2040][y] = 111.321 * cos_angle * delta\n"
      ],
      "metadata": {
        "id": "CCJB6XBuKDIz"
      },
      "execution_count": 50,
      "outputs": []
    },
    {
      "cell_type": "markdown",
      "source": [
        "Referencias: https://www.ibm.com/docs/es/db2woc?topic=SS6NHC/com.ibm.db2.luw.spatial.topics.doc/doc/csb3022a.htm & https://www.um.es/geograf/sigmur/temariohtml/node6_mn.html\n"
      ],
      "metadata": {
        "id": "Tat6YkiccEG0"
      }
    },
    {
      "cell_type": "code",
      "source": [
        "grid"
      ],
      "metadata": {
        "colab": {
          "base_uri": "https://localhost:8080/"
        },
        "id": "XVjVeq8IUdY-",
        "outputId": "96f06db7-16e4-4ad0-8ea6-901cf7ba2ded"
      },
      "execution_count": 52,
      "outputs": [
        {
          "output_type": "execute_result",
          "data": {
            "text/plain": [
              "array([[9.23964300e+00, 9.23964300e+00, 9.23964300e+00, ...,\n",
              "        9.23964300e+00, 9.23964300e+00, 9.23964300e+00],\n",
              "       [9.23964300e+00, 9.23964300e+00, 9.23964300e+00, ...,\n",
              "        9.23964300e+00, 9.23964300e+00, 9.23964300e+00],\n",
              "       [9.23964300e+00, 9.23964300e+00, 9.23964300e+00, ...,\n",
              "        9.23964300e+00, 9.23964300e+00, 9.23964300e+00],\n",
              "       ...,\n",
              "       [9.23964300e+00, 9.23964300e+00, 9.23964300e+00, ...,\n",
              "        9.23964300e+00, 9.23964300e+00, 9.23964300e+00],\n",
              "       [9.23964300e+00, 9.23964300e+00, 9.23964300e+00, ...,\n",
              "        9.23964300e+00, 9.23964300e+00, 9.23964300e+00],\n",
              "       [5.65764961e-16, 5.65764961e-16, 5.65764961e-16, ...,\n",
              "        5.65764961e-16, 5.65764961e-16, 5.65764961e-16]])"
            ]
          },
          "metadata": {},
          "execution_count": 52
        }
      ]
    },
    {
      "cell_type": "code",
      "source": [
        "plt.imshow(grid)"
      ],
      "metadata": {
        "colab": {
          "base_uri": "https://localhost:8080/",
          "height": 318
        },
        "id": "Iv3GdW2OQiIJ",
        "outputId": "fa114ae6-6d19-4c3a-e600-9e0e909506cf"
      },
      "execution_count": 53,
      "outputs": [
        {
          "output_type": "execute_result",
          "data": {
            "text/plain": [
              "<matplotlib.image.AxesImage at 0x7f2c4165bee0>"
            ]
          },
          "metadata": {},
          "execution_count": 53
        },
        {
          "output_type": "display_data",
          "data": {
            "text/plain": [
              "<Figure size 640x480 with 1 Axes>"
            ],
            "image/png": "[encoded data removed]"
          },
          "metadata": {}
        }
      ]
    },
    {
      "cell_type": "code",
      "source": [
        "np.save(\"gridLengthEW.npy\", grid)"
      ],
      "metadata": {
        "id": "MQjE0nTgRn_S"
      },
      "execution_count": 54,
      "outputs": []
    },
    {
      "cell_type": "code",
      "source": [],
      "metadata": {
        "id": "d54dqj1vZuYV"
      },
      "execution_count": null,
      "outputs": []
    },
    {
      "cell_type": "code",
      "source": [],
      "metadata": {
        "id": "fePEoNavZueT"
      },
      "execution_count": null,
      "outputs": []
    },
    {
      "cell_type": "code",
      "source": [
        "grid2= np.zeros((2041,4320))"
      ],
      "metadata": {
        "id": "fz5r55wYYggc"
      },
      "execution_count": 55,
      "outputs": []
    },
    {
      "cell_type": "code",
      "source": [
        "for x in range(2041):\n",
        "    for y in range(4320):\n",
        "      grid2[x][y] = 111.321*0.083"
      ],
      "metadata": {
        "id": "HzsC7TxbTak_"
      },
      "execution_count": 56,
      "outputs": []
    },
    {
      "cell_type": "code",
      "source": [
        "grid2"
      ],
      "metadata": {
        "colab": {
          "base_uri": "https://localhost:8080/"
        },
        "id": "VEmab-FBYiBt",
        "outputId": "69827ad3-c382-4d49-a246-194247d62a19"
      },
      "execution_count": 57,
      "outputs": [
        {
          "output_type": "execute_result",
          "data": {
            "text/plain": [
              "array([[9.239643, 9.239643, 9.239643, ..., 9.239643, 9.239643, 9.239643],\n",
              "       [9.239643, 9.239643, 9.239643, ..., 9.239643, 9.239643, 9.239643],\n",
              "       [9.239643, 9.239643, 9.239643, ..., 9.239643, 9.239643, 9.239643],\n",
              "       ...,\n",
              "       [9.239643, 9.239643, 9.239643, ..., 9.239643, 9.239643, 9.239643],\n",
              "       [9.239643, 9.239643, 9.239643, ..., 9.239643, 9.239643, 9.239643],\n",
              "       [9.239643, 9.239643, 9.239643, ..., 9.239643, 9.239643, 9.239643]])"
            ]
          },
          "metadata": {},
          "execution_count": 57
        }
      ]
    },
    {
      "cell_type": "code",
      "source": [
        "plt.imshow(grid2)"
      ],
      "metadata": {
        "colab": {
          "base_uri": "https://localhost:8080/",
          "height": 318
        },
        "id": "t-oLgIY_Ymd-",
        "outputId": "c6f3048f-26d4-408a-c436-4ac26c9f2fd7"
      },
      "execution_count": 58,
      "outputs": [
        {
          "output_type": "execute_result",
          "data": {
            "text/plain": [
              "<matplotlib.image.AxesImage at 0x7f2c416e8b20>"
            ]
          },
          "metadata": {},
          "execution_count": 58
        },
        {
          "output_type": "display_data",
          "data": {
            "text/plain": [
              "<Figure size 640x480 with 1 Axes>"
            ],
            "image/png": "[encoded data removed]"
          },
          "metadata": {}
        }
      ]
    },
    {
      "cell_type": "code",
      "source": [
        "np.save(\"gridLengthNS.npy\", grid2)"
      ],
      "metadata": {
        "id": "itexiHjSYpF9"
      },
      "execution_count": 59,
      "outputs": []
    },
    {
      "cell_type": "code",
      "source": [],
      "metadata": {
        "id": "md12ABhlaW5c"
      },
      "execution_count": null,
      "outputs": []
    }
  ]
}